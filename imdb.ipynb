{
 "cells": [
  {
   "cell_type": "code",
   "execution_count": 17,
   "metadata": {
    "ExecuteTime": {
     "end_time": "2024-02-09T09:23:31.775952200Z",
     "start_time": "2024-02-09T09:23:24.613127700Z"
    }
   },
   "outputs": [
    {
     "name": "stdout",
     "output_type": "stream",
     "text": [
      ".\\IMDB_Data\\title.akas.data.tsv\n",
      "Total lines title.akas.data.tsv:  13237229\n",
      ".\\IMDB_Data\\title.basics.data.tsv\n",
      "Total lines title.basics.data.tsv:  10534794\n",
      ".\\IMDB_Data\\title.crew.data.tsv\n",
      "Total lines title.crew.data.tsv:  10537685\n",
      ".\\IMDB_Data\\title.episode.data.tsv\n",
      "Total lines title.episode.data.tsv:  8056188\n",
      ".\\IMDB_Data\\title.ratings.data.tsv\n",
      "Total lines title.ratings.data.tsv:  1400729\n"
     ]
    }
   ],
   "source": [
    "import os.path\n",
    "\n",
    "import pandas as pd \n",
    "import os.path as path\n",
    "\n",
    "imdb_dir = path.join('.', 'IMDB_Data')\n",
    "\n",
    "df = pd.read_csv(path.join(imdb_dir, 'title.basics.data.tsv'), sep='\\t', nrows=1000000)\n",
    "\n",
    "\n",
    "files = [ \n",
    "         \"title.akas.data.tsv\",\n",
    "         \"title.basics.data.tsv\",\n",
    "         \"title.crew.data.tsv\",\n",
    "         \"title.episode.data.tsv\",\n",
    "         \"title.ratings.data.tsv\"\n",
    "]\n",
    "\n",
    "\n",
    "for filename in files:\n",
    "    print(path.join(imdb_dir, filename))\n",
    "    with open(path.join(imdb_dir, filename), 'r', encoding='utf-8') as fp:\n",
    "        x = len(fp.readlines())\n",
    "        print(f'Total lines {filename}: {x}')\n",
    "\n",
    "\n",
    "\n"
   ]
  },
  {
   "cell_type": "code",
   "execution_count": null,
   "metadata": {
    "collapsed": false
   },
   "outputs": [],
   "source": []
  }
 ],
 "metadata": {
  "kernelspec": {
   "display_name": "DataScienceNHL",
   "language": "python",
   "name": "python3"
  },
  "language_info": {
   "name": "python",
   "version": "3.11.7"
  }
 },
 "nbformat": 4,
 "nbformat_minor": 2
}
