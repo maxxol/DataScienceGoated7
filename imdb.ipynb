{
 "cells": [
  {
   "cell_type": "code",
   "execution_count": 21,
   "metadata": {},
   "outputs": [
    {
     "name": "stdout",
     "output_type": "stream",
     "text": [
      "Total lines name.basics.data.tsv:  13237229\n",
      "Total lines title.akas.data.tsv:  38696277\n",
      "Total lines title.basics.data.tsv:  10534794\n",
      "Total lines title.crew.data.tsv:  10537685\n",
      "Total lines title.episode.data.tsv:  8056188\n",
      "Total lines title.ratings.data.tsv:  1400729\n",
      "nr of total records:  82462902\n"
     ]
    }
   ],
   "source": [
    "import pandas as pd \n",
    "\n",
    "df = pd.read_csv('title.basics.data.tsv', sep='\\t', nrows=1000000)\n",
    "\n",
    "\n",
    "files = [\"name.basics.data.tsv\", \n",
    "         \"title.akas.data.tsv\",\n",
    "         \"title.basics.data.tsv\",\n",
    "         \"title.crew.data.tsv\",\n",
    "         \"title.episode.data.tsv\",\n",
    "         \"title.ratings.data.tsv\"]\n",
    "\n",
    "for filename in files:\n",
    "    with open(filename, 'r') as fp:\n",
    "        x = len(fp.readlines())\n",
    "        print('Total lines' + ' ' + filename + ': ', x)\n",
    "\n",
    "\n",
    "\n"
   ]
  }
 ],
 "metadata": {
  "kernelspec": {
   "display_name": "DataScienceNHL",
   "language": "python",
   "name": "python3"
  },
  "language_info": {
   "name": "python",
   "version": "3.11.7"
  }
 },
 "nbformat": 4,
 "nbformat_minor": 2
}
